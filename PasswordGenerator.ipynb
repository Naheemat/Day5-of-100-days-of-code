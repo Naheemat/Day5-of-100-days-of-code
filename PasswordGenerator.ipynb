{
 "cells": [
  {
   "cell_type": "code",
   "execution_count": null,
   "id": "ff4f862c",
   "metadata": {},
   "outputs": [],
   "source": [
    "#PASSWORD GENERATOR IN A COMPLETELY RANDOM ORDER\n",
    "\n",
    "#PASSWORD GENERATOR\n",
    "\n",
    "import random\n",
    "\n",
    "letters = ['A','B','C','D','E']\n",
    "numbers = ['1','2','3','4','5']\n",
    "symbols = ['!','@','#','$','%']\n",
    "\n",
    "print('Welcome to my password Generator!')\n",
    "no_of_letters = int(input('How many letters would you like your password to have? \\n'))\n",
    "no_of_symbols = int(input('How many symbols would you like your password to have?\\n'))\n",
    "no_of_numbers = int(input('How many numbers would you like your password to have?\\n'))\n",
    "\n",
    "#use a password list instead of a string\n",
    "password_list = []\n",
    "for char in range (1, no_of_letters + 1):\n",
    "    password_list.append(random.choice(letters))\n",
    "    \n",
    "for char in range (1, no_of_symbols + 1):\n",
    "    password_list += random.choice(symbols)\n",
    "    \n",
    "for char in range (1, no_of_numbers + 1):\n",
    "    password_list += random.choice(numbers)\n",
    "    \n",
    "#print(password_list)\n",
    "random.shuffle(password_list)\n",
    "print(password_list)\n",
    "\n",
    "password = ''\n",
    "for char in password_list:\n",
    "    password += char\n",
    "    \n",
    "print(f'Your unique password is : {password}')"
   ]
  }
 ],
 "metadata": {
  "kernelspec": {
   "display_name": "Python 3",
   "language": "python",
   "name": "python3"
  },
  "language_info": {
   "codemirror_mode": {
    "name": "ipython",
    "version": 3
   },
   "file_extension": ".py",
   "mimetype": "text/x-python",
   "name": "python",
   "nbconvert_exporter": "python",
   "pygments_lexer": "ipython3",
   "version": "3.8.8"
  }
 },
 "nbformat": 4,
 "nbformat_minor": 5
}
